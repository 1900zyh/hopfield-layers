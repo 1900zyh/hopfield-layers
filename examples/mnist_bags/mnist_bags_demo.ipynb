{
 "cells": [
  {
   "cell_type": "code",
   "execution_count": 1,
   "metadata": {},
   "outputs": [
    {
     "ename": "AttributeError",
     "evalue": "module 'torch._jit_internal' has no attribute 'Optional'",
     "output_type": "error",
     "traceback": [
      "\u001b[0;31m---------------------------------------------------------------------------\u001b[0m",
      "\u001b[0;31mAttributeError\u001b[0m                            Traceback (most recent call last)",
      "\u001b[0;32m<ipython-input-1-761815069054>\u001b[0m in \u001b[0;36m<module>\u001b[0;34m\u001b[0m\n\u001b[1;32m      8\u001b[0m \u001b[0;32mfrom\u001b[0m \u001b[0mtorch\u001b[0m\u001b[0;34m.\u001b[0m\u001b[0mautograd\u001b[0m \u001b[0;32mimport\u001b[0m \u001b[0mVariable\u001b[0m\u001b[0;34m\u001b[0m\u001b[0;34m\u001b[0m\u001b[0m\n\u001b[1;32m      9\u001b[0m \u001b[0;34m\u001b[0m\u001b[0m\n\u001b[0;32m---> 10\u001b[0;31m \u001b[0;32mfrom\u001b[0m \u001b[0mmodules\u001b[0m \u001b[0;32mimport\u001b[0m \u001b[0mHopfieldPooling\u001b[0m\u001b[0;34m\u001b[0m\u001b[0;34m\u001b[0m\u001b[0m\n\u001b[0m\u001b[1;32m     11\u001b[0m \u001b[0;34m\u001b[0m\u001b[0m\n\u001b[1;32m     12\u001b[0m \u001b[0;31m# add path to AttentionDeepMIL-master\u001b[0m\u001b[0;34m\u001b[0m\u001b[0;34m\u001b[0m\u001b[0;34m\u001b[0m\u001b[0m\n",
      "\u001b[0;32m~/Work/HopfieldNetwork/Final/hopfield-layers/Contrib/MIL/modules/__init__.py\u001b[0m in \u001b[0;36m<module>\u001b[0;34m\u001b[0m\n\u001b[1;32m      7\u001b[0m \u001b[0;32mfrom\u001b[0m \u001b[0mtyping\u001b[0m \u001b[0;32mimport\u001b[0m \u001b[0mOptional\u001b[0m\u001b[0;34m,\u001b[0m \u001b[0mTuple\u001b[0m\u001b[0;34m,\u001b[0m \u001b[0mUnion\u001b[0m\u001b[0;34m\u001b[0m\u001b[0;34m\u001b[0m\u001b[0m\n\u001b[1;32m      8\u001b[0m \u001b[0;34m\u001b[0m\u001b[0m\n\u001b[0;32m----> 9\u001b[0;31m \u001b[0;32mfrom\u001b[0m \u001b[0;34m.\u001b[0m\u001b[0mactivation\u001b[0m \u001b[0;32mimport\u001b[0m \u001b[0mHopfieldCore\u001b[0m\u001b[0;34m\u001b[0m\u001b[0;34m\u001b[0m\u001b[0m\n\u001b[0m\u001b[1;32m     10\u001b[0m \u001b[0;34m\u001b[0m\u001b[0m\n\u001b[1;32m     11\u001b[0m \u001b[0;34m\u001b[0m\u001b[0m\n",
      "\u001b[0;32m~/Work/HopfieldNetwork/Final/hopfield-layers/Contrib/MIL/modules/activation.py\u001b[0m in \u001b[0;36m<module>\u001b[0;34m\u001b[0m\n\u001b[1;32m     14\u001b[0m \u001b[0;34m\u001b[0m\u001b[0m\n\u001b[1;32m     15\u001b[0m \u001b[0;34m\u001b[0m\u001b[0m\n\u001b[0;32m---> 16\u001b[0;31m \u001b[0;32mclass\u001b[0m \u001b[0mHopfieldCore\u001b[0m\u001b[0;34m(\u001b[0m\u001b[0mModule\u001b[0m\u001b[0;34m)\u001b[0m\u001b[0;34m:\u001b[0m\u001b[0;34m\u001b[0m\u001b[0;34m\u001b[0m\u001b[0m\n\u001b[0m\u001b[1;32m     17\u001b[0m     r\"\"\"Allows the model to jointly attend to information\n\u001b[1;32m     18\u001b[0m     \u001b[0;32mfrom\u001b[0m \u001b[0mdifferent\u001b[0m \u001b[0mrepresentation\u001b[0m \u001b[0msubspaces\u001b[0m\u001b[0;34m.\u001b[0m\u001b[0;34m\u001b[0m\u001b[0;34m\u001b[0m\u001b[0m\n",
      "\u001b[0;32m~/Work/HopfieldNetwork/Final/hopfield-layers/Contrib/MIL/modules/activation.py\u001b[0m in \u001b[0;36mHopfieldCore\u001b[0;34m()\u001b[0m\n\u001b[1;32m     44\u001b[0m     \"\"\"\n\u001b[1;32m     45\u001b[0m     __annotations__ = {\n\u001b[0;32m---> 46\u001b[0;31m         \u001b[0;34m'bias_k'\u001b[0m\u001b[0;34m:\u001b[0m \u001b[0mtorch\u001b[0m\u001b[0;34m.\u001b[0m\u001b[0m_jit_internal\u001b[0m\u001b[0;34m.\u001b[0m\u001b[0mOptional\u001b[0m\u001b[0;34m[\u001b[0m\u001b[0mtorch\u001b[0m\u001b[0;34m.\u001b[0m\u001b[0mTensor\u001b[0m\u001b[0;34m]\u001b[0m\u001b[0;34m,\u001b[0m\u001b[0;34m\u001b[0m\u001b[0;34m\u001b[0m\u001b[0m\n\u001b[0m\u001b[1;32m     47\u001b[0m         \u001b[0;34m'bias_v'\u001b[0m\u001b[0;34m:\u001b[0m \u001b[0mtorch\u001b[0m\u001b[0;34m.\u001b[0m\u001b[0m_jit_internal\u001b[0m\u001b[0;34m.\u001b[0m\u001b[0mOptional\u001b[0m\u001b[0;34m[\u001b[0m\u001b[0mtorch\u001b[0m\u001b[0;34m.\u001b[0m\u001b[0mTensor\u001b[0m\u001b[0;34m]\u001b[0m\u001b[0;34m,\u001b[0m\u001b[0;34m\u001b[0m\u001b[0;34m\u001b[0m\u001b[0m\n\u001b[1;32m     48\u001b[0m     }\n",
      "\u001b[0;31mAttributeError\u001b[0m: module 'torch._jit_internal' has no attribute 'Optional'"
     ]
    }
   ],
   "source": [
    "from __future__ import print_function\n",
    "import numpy as np\n",
    "import argparse\n",
    "import torch\n",
    "import torch.nn as nn\n",
    "import torch.utils.data as data_utils\n",
    "import torch.optim as optim\n",
    "from torch.autograd import Variable\n",
    "\n",
    "from modules import HopfieldPooling\n",
    "\n",
    "# add path to AttentionDeepMIL-master\n",
    "import sys\n",
    "sys.path.append(\"...path/to/AttentionDeepMIL-master\") \n",
    "from dataloader import MnistBags\n",
    "from model import Attention, GatedAttention\n"
   ]
  },
  {
   "cell_type": "code",
   "execution_count": null,
   "metadata": {},
   "outputs": [],
   "source": [
    "class HfPooling(nn.Module):\n",
    "    def __init__(self):\n",
    "        super(HfPooling, self).__init__()\n",
    "        self.L = 500\n",
    "        self.D = 128\n",
    "        self.K = 1\n",
    "\n",
    "        self.feature_extractor_part1 = nn.Sequential(\n",
    "            nn.Conv2d(1, 20, kernel_size=5),\n",
    "            nn.ReLU(),\n",
    "            nn.MaxPool2d(2, stride=2),\n",
    "            nn.Conv2d(20, 50, kernel_size=5),\n",
    "            nn.ReLU(),\n",
    "            nn.MaxPool2d(2, stride=2)\n",
    "        )\n",
    "        self.feature_extractor_part2 = nn.Sequential(\n",
    "            nn.Linear(50 * 4 * 4, self.L),\n",
    "            nn.ReLU(),\n",
    "        )\n",
    "        self.hopfield_pooling = HopfieldPooling(input_size=self.L,\n",
    "                                                hidden_size=32, \n",
    "                                                output_size=self.L, \n",
    "                                                num_heads=1,\n",
    "                                                scaling=0.8)\n",
    "        self.dp = nn.Dropout(p=0.1)\n",
    "        self.classifier = nn.Sequential(\n",
    "            nn.Linear(self.L*self.K, 1),\n",
    "            nn.Sigmoid()\n",
    "        )\n",
    "        \n",
    "    def forward(self, x):\n",
    "        x = x.squeeze(0)\n",
    "        H = self.feature_extractor_part1(x)\n",
    "        H = H.view(-1, 50 * 4 * 4)\n",
    "        H = self.feature_extractor_part2(H)  # NxL\n",
    "        \n",
    "        H = H.unsqueeze(0)\n",
    "        H = self.hopfield_pooling(H)\n",
    "        H = H.squeeze(0)\n",
    "        H = self.dp(H)\n",
    "\n",
    "        Y_prob = self.classifier(H)\n",
    "        Y_hat = torch.ge(Y_prob, 0.5).float()\n",
    "\n",
    "        return Y_prob, Y_hat, None # dummy for A\n",
    "\n",
    "    # AUXILIARY METHODS\n",
    "    def calculate_classification_error(self, X, Y):\n",
    "        Y = Y.float()\n",
    "        _, Y_hat, _ = self.forward(X)\n",
    "        error = 1. - Y_hat.eq(Y).cpu().float().mean().item()\n",
    "\n",
    "        return error, Y_hat\n",
    "\n",
    "    def calculate_objective(self, X, Y):\n",
    "        Y = Y.float()\n",
    "        Y_prob, _, A = self.forward(X)\n",
    "        Y_prob = torch.clamp(Y_prob, min=1e-5, max=1. - 1e-5)\n",
    "        neg_log_likelihood = -1. * (Y * torch.log(Y_prob) + (1. - Y) * torch.log(1. - Y_prob))  # negative log bernoulli\n",
    "\n",
    "        return neg_log_likelihood, A"
   ]
  },
  {
   "cell_type": "code",
   "execution_count": 2,
   "metadata": {},
   "outputs": [],
   "source": [
    "def train(epoch):\n",
    "    model.train()\n",
    "    train_loss = 0.\n",
    "    train_error = 0.\n",
    "    for batch_idx, (data, label) in enumerate(train_loader):\n",
    "        bag_label = label[0]\n",
    "        if args.cuda:\n",
    "            data, bag_label = data.cuda(), bag_label.cuda()\n",
    "        data, bag_label = Variable(data), Variable(bag_label)\n",
    "\n",
    "        # reset gradients\n",
    "        optimizer.zero_grad()\n",
    "        # calculate loss and metrics\n",
    "        loss, _ = model.calculate_objective(data, bag_label)\n",
    "        train_loss += loss.data[0]\n",
    "        error, _ = model.calculate_classification_error(data, bag_label)\n",
    "        train_error += error\n",
    "        # backward pass\n",
    "        loss.backward()\n",
    "        # step\n",
    "        optimizer.step()\n",
    "\n",
    "    # calculate loss and error for epoch\n",
    "    train_loss /= len(train_loader)\n",
    "    train_error /= len(train_loader)\n",
    "    \n",
    "    print('Epoch: {}, Loss: {:.4f}, Train error: {:.4f}'.format(epoch, train_loss.cpu().item(), train_error))\n",
    "\n",
    "\n",
    "def test():\n",
    "    model.eval()\n",
    "    test_loss = 0.\n",
    "    test_error = 0.\n",
    "    for batch_idx, (data, label) in enumerate(test_loader):\n",
    "        bag_label = label[0]\n",
    "        instance_labels = label[1]\n",
    "        if args.cuda:\n",
    "            data, bag_label = data.cuda(), bag_label.cuda()\n",
    "        data, bag_label = Variable(data), Variable(bag_label)\n",
    "        loss, attention_weights = model.calculate_objective(data, bag_label)\n",
    "        test_loss += loss.data[0]\n",
    "        error, predicted_label = model.calculate_classification_error(data, bag_label)\n",
    "        test_error += error\n",
    "\n",
    "        #if batch_idx < 5:  # plot bag labels and instance labels for first 5 bags\n",
    "        #    bag_level = (bag_label.cpu().data.numpy()[0], int(predicted_label.cpu().data.numpy()[0][0]))\n",
    "\n",
    "    test_error /= len(test_loader)\n",
    "    test_loss /= len(test_loader)\n",
    "\n",
    "    print('\\nTest Set, Loss: {:.4f}, Test error: {:.4f}'.format(test_loss.cpu().item(), test_error))"
   ]
  },
  {
   "cell_type": "code",
   "execution_count": 3,
   "metadata": {},
   "outputs": [
    {
     "name": "stdout",
     "output_type": "stream",
     "text": [
      "Init Model\n"
     ]
    },
    {
     "ename": "NameError",
     "evalue": "name 'Attention' is not defined",
     "output_type": "error",
     "traceback": [
      "\u001b[0;31m---------------------------------------------------------------------------\u001b[0m",
      "\u001b[0;31mNameError\u001b[0m                                 Traceback (most recent call last)",
      "\u001b[0;32m<ipython-input-3-7976f1b7ca90>\u001b[0m in \u001b[0;36m<module>\u001b[0;34m\u001b[0m\n\u001b[1;32m     18\u001b[0m \u001b[0;34m\u001b[0m\u001b[0m\n\u001b[1;32m     19\u001b[0m \u001b[0;32mif\u001b[0m \u001b[0margs\u001b[0m\u001b[0;34m.\u001b[0m\u001b[0mmodel\u001b[0m\u001b[0;34m==\u001b[0m\u001b[0;34m'attention'\u001b[0m\u001b[0;34m:\u001b[0m\u001b[0;34m\u001b[0m\u001b[0;34m\u001b[0m\u001b[0m\n\u001b[0;32m---> 20\u001b[0;31m     \u001b[0mmodel\u001b[0m \u001b[0;34m=\u001b[0m \u001b[0mAttention\u001b[0m\u001b[0;34m(\u001b[0m\u001b[0;34m)\u001b[0m\u001b[0;34m\u001b[0m\u001b[0;34m\u001b[0m\u001b[0m\n\u001b[0m\u001b[1;32m     21\u001b[0m \u001b[0;32melif\u001b[0m \u001b[0margs\u001b[0m\u001b[0;34m.\u001b[0m\u001b[0mmodel\u001b[0m\u001b[0;34m==\u001b[0m\u001b[0;34m'gated_attention'\u001b[0m\u001b[0;34m:\u001b[0m\u001b[0;34m\u001b[0m\u001b[0;34m\u001b[0m\u001b[0m\n\u001b[1;32m     22\u001b[0m     \u001b[0mmodel\u001b[0m \u001b[0;34m=\u001b[0m \u001b[0mGatedAttention\u001b[0m\u001b[0;34m(\u001b[0m\u001b[0;34m)\u001b[0m\u001b[0;34m\u001b[0m\u001b[0;34m\u001b[0m\u001b[0m\n",
      "\u001b[0;31mNameError\u001b[0m: name 'Attention' is not defined"
     ]
    }
   ],
   "source": [
    "class args:\n",
    "    pass\n",
    "args.epochs = 20\n",
    "args.lr = 0.0005\n",
    "args.reg = 10e-5\n",
    "args.target_number = 9\n",
    "args.mean_bag_length = 10\n",
    "args.var_bag_length = 2\n",
    "args.num_bags_train = 200\n",
    "args.num_bags_test = 50\n",
    "args.seed = 1\n",
    "args.no_cuda = True\n",
    "args.cuda = not args.no_cuda\n",
    "args.model = 'attention'\n",
    "\n",
    "print('Init Model')\n",
    "torch.manual_seed(args.seed)\n",
    "\n",
    "if args.model=='attention':\n",
    "    model = Attention()\n",
    "elif args.model=='gated_attention':\n",
    "    model = GatedAttention()\n",
    "elif args.model == 'hf_pooling':\n",
    "    model = HfPooling()\n",
    "if args.cuda:\n",
    "    model.cuda()"
   ]
  },
  {
   "cell_type": "code",
   "execution_count": 5,
   "metadata": {},
   "outputs": [
    {
     "name": "stdout",
     "output_type": "stream",
     "text": [
      "Load Train and Test Set\n"
     ]
    }
   ],
   "source": [
    "\n",
    "if args.cuda:\n",
    "    torch.cuda.manual_seed(args.seed)\n",
    "    print('\\nGPU is ON!')\n",
    "\n",
    "print('Load Train and Test Set')\n",
    "loader_kwargs = {'num_workers': 1, 'pin_memory': True} if args.cuda else {}\n",
    "\n",
    "train_loader = data_utils.DataLoader(MnistBags(target_number=args.target_number,\n",
    "                                               mean_bag_length=args.mean_bag_length,\n",
    "                                               var_bag_length=args.var_bag_length,\n",
    "                                               num_bag=args.num_bags_train,\n",
    "                                               seed=args.seed,\n",
    "                                               train=True),\n",
    "                                     batch_size=1,\n",
    "                                     shuffle=True,\n",
    "                                     **loader_kwargs)\n",
    "\n",
    "test_loader = data_utils.DataLoader(MnistBags(target_number=args.target_number,\n",
    "                                              mean_bag_length=args.mean_bag_length,\n",
    "                                              var_bag_length=args.var_bag_length,\n",
    "                                              num_bag=args.num_bags_test,\n",
    "                                              seed=args.seed,\n",
    "                                              train=False),\n",
    "                                    batch_size=1,\n",
    "                                    shuffle=False,\n",
    "                                    **loader_kwargs)\n",
    "\n",
    "optimizer = optim.Adam(model.parameters(), lr=args.lr, betas=(0.9, 0.999), weight_decay=args.reg)"
   ]
  },
  {
   "cell_type": "code",
   "execution_count": 6,
   "metadata": {},
   "outputs": [
    {
     "name": "stdout",
     "output_type": "stream",
     "text": [
      "Start Training\n",
      "Epoch: 1, Loss: 0.6899, Train error: 0.4150\n",
      "Epoch: 2, Loss: 0.6561, Train error: 0.3750\n",
      "Epoch: 3, Loss: 0.5644, Train error: 0.3250\n",
      "Epoch: 4, Loss: 0.3412, Train error: 0.1550\n",
      "Epoch: 5, Loss: 0.2279, Train error: 0.0700\n",
      "Epoch: 6, Loss: 0.0830, Train error: 0.0300\n",
      "Epoch: 7, Loss: 0.1755, Train error: 0.0500\n",
      "Epoch: 8, Loss: 0.0384, Train error: 0.0100\n",
      "Epoch: 9, Loss: 0.0434, Train error: 0.0250\n",
      "Epoch: 10, Loss: 0.1016, Train error: 0.0350\n",
      "Epoch: 11, Loss: 0.0499, Train error: 0.0150\n",
      "Epoch: 12, Loss: 0.0150, Train error: 0.0050\n",
      "Epoch: 13, Loss: 0.0053, Train error: 0.0000\n",
      "Epoch: 14, Loss: 0.0007, Train error: 0.0000\n",
      "Epoch: 15, Loss: 0.0005, Train error: 0.0000\n",
      "Epoch: 16, Loss: 0.0003, Train error: 0.0000\n",
      "Epoch: 17, Loss: 0.0002, Train error: 0.0000\n",
      "Epoch: 18, Loss: 0.0002, Train error: 0.0000\n",
      "Epoch: 19, Loss: 0.0002, Train error: 0.0000\n",
      "Epoch: 20, Loss: 0.0001, Train error: 0.0000\n",
      "Start Testing\n",
      "\n",
      "Test Set, Loss: 0.6883, Test error: 0.1000\n"
     ]
    }
   ],
   "source": [
    "print('Start Training')\n",
    "for epoch in range(1, args.epochs + 1):\n",
    "    train(epoch)\n",
    "print('Start Testing')\n",
    "test()"
   ]
  },
  {
   "cell_type": "code",
   "execution_count": 18,
   "metadata": {},
   "outputs": [],
   "source": [
    "# RESULTS\n",
    "\n",
    "# hop.pooling    : Test Set, Loss: 0.2083, Test error: 0.0600\n",
    "# gated attention: Test Set, Loss: 0.5023, Test error: 0.0800\n",
    "# attention      : Test Set, Loss: 0.6883, Test error: 0.1000"
   ]
  }
 ],
 "metadata": {
  "kernelspec": {
   "display_name": "Python 3",
   "language": "python",
   "name": "python3"
  },
  "language_info": {
   "codemirror_mode": {
    "name": "ipython",
    "version": 3
   },
   "file_extension": ".py",
   "mimetype": "text/x-python",
   "name": "python",
   "nbconvert_exporter": "python",
   "pygments_lexer": "ipython3",
   "version": "3.6.9"
  }
 },
 "nbformat": 4,
 "nbformat_minor": 4
}
